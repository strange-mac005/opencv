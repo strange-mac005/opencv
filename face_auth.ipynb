{
 "cells": [
  {
   "cell_type": "code",
   "execution_count": 1,
   "metadata": {},
   "outputs": [
    {
     "name": "stdout",
     "output_type": "stream",
     "text": [
      "Image Captured\n",
      "\n"
     ]
    }
   ],
   "source": [
    "import cv2, urllib.request, numpy as np\n",
    "import socket;\n",
    "\n",
    "s=socket.socket(socket.AF_INET,socket.SOCK_STREAM,0);\n",
    "\n",
    "server_ip=\"192.168.43.165\";\n",
    "port=6500;\n",
    "\n",
    "s.connect((server_ip,port))\n",
    "\n",
    "front_face = cv2.CascadeClassifier('haarcasde_frontalface_default.xml')\n",
    "\n",
    "cap = cv2.VideoCapture(0);\n",
    "\n",
    "\n",
    "while True:\n",
    "    _, img = cap.read();\n",
    "    front = front_face.detectMultiScale(img, 1.3, 5)\n",
    "\n",
    "    if front is ():\n",
    "        cv2.imshow(\"meri_photu\",img)\n",
    "    else:\n",
    "    \tif len(front) == 1:\n",
    "\t    \tx,y,xh,yh=front[0];\n",
    "\t    \timg=img[y:y+yh,x:x+xh]\n",
    "\t    \timg=cv2.cvtColor(img,cv2.COLOR_BGR2GRAY)\n",
    "\t    \timg=cv2.resize(img,(200,200))\n",
    "\t    \tcv2.imwrite('face.jpg',img);\n",
    "\t    \tcv2.imshow('Sent Photo',img);\n",
    "\t    \tprint(\"Image Captured\")\n",
    "\t    \tbreak;\n",
    "    cv2.imshow(\"meri_photu\", img);\n",
    "    if cv2.waitKey(1) & 0xFF == ord('q'):\n",
    "        break;\n",
    "\n",
    "file=open('face.jpg','rb');\n",
    "s.send(file.read())\n",
    "s.send(b'eof');\n",
    "file.close();\n",
    "\n",
    "cv2.destroyAllWindows();\n",
    "cap.release();\n",
    "res = s.recv(2048);\n",
    "print(res.decode())\n",
    "\n"
   ]
  },
  {
   "cell_type": "code",
   "execution_count": null,
   "metadata": {},
   "outputs": [],
   "source": []
  }
 ],
 "metadata": {
  "kernelspec": {
   "display_name": "Python 3",
   "language": "python",
   "name": "python3"
  },
  "language_info": {
   "codemirror_mode": {
    "name": "ipython",
    "version": 3
   },
   "file_extension": ".py",
   "mimetype": "text/x-python",
   "name": "python",
   "nbconvert_exporter": "python",
   "pygments_lexer": "ipython3",
   "version": "3.6.4"
  }
 },
 "nbformat": 4,
 "nbformat_minor": 2
}
